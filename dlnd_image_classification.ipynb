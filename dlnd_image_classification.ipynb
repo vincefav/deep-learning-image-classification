{
 "cells": [
  {
   "cell_type": "markdown",
   "metadata": {
    "collapsed": true,
    "deletable": true,
    "editable": true
   },
   "source": [
    "# Image Classification\n",
    "In this project, you'll classify images from the [CIFAR-10 dataset](https://www.cs.toronto.edu/~kriz/cifar.html).  The dataset consists of airplanes, dogs, cats, and other objects. You'll preprocess the images, then train a convolutional neural network on all the samples. The images need to be normalized and the labels need to be one-hot encoded.  You'll get to apply what you learned and build a convolutional, max pooling, dropout, and fully connected layers.  At the end, you'll get to see your neural network's predictions on the sample images.\n",
    "## Get the Data\n",
    "Run the following cell to download the [CIFAR-10 dataset for python](https://www.cs.toronto.edu/~kriz/cifar-10-python.tar.gz)."
   ]
  },
  {
   "cell_type": "code",
   "execution_count": 1,
   "metadata": {
    "collapsed": false,
    "deletable": true,
    "editable": true
   },
   "outputs": [
    {
     "name": "stderr",
     "output_type": "stream",
     "text": [
      "CIFAR-10 Dataset: 171MB [00:38, 4.43MB/s]                              \n"
     ]
    },
    {
     "name": "stdout",
     "output_type": "stream",
     "text": [
      "All files found!\n"
     ]
    }
   ],
   "source": [
    "\"\"\"\n",
    "DON'T MODIFY ANYTHING IN THIS CELL THAT IS BELOW THIS LINE\n",
    "\"\"\"\n",
    "from urllib.request import urlretrieve\n",
    "from os.path import isfile, isdir\n",
    "from tqdm import tqdm\n",
    "import problem_unittests as tests\n",
    "import tarfile\n",
    "\n",
    "cifar10_dataset_folder_path = 'cifar-10-batches-py'\n",
    "\n",
    "class DLProgress(tqdm):\n",
    "    last_block = 0\n",
    "\n",
    "    def hook(self, block_num=1, block_size=1, total_size=None):\n",
    "        self.total = total_size\n",
    "        self.update((block_num - self.last_block) * block_size)\n",
    "        self.last_block = block_num\n",
    "\n",
    "if not isfile('cifar-10-python.tar.gz'):\n",
    "    with DLProgress(unit='B', unit_scale=True, miniters=1, desc='CIFAR-10 Dataset') as pbar:\n",
    "        urlretrieve(\n",
    "            'https://www.cs.toronto.edu/~kriz/cifar-10-python.tar.gz',\n",
    "            'cifar-10-python.tar.gz',\n",
    "            pbar.hook)\n",
    "\n",
    "if not isdir(cifar10_dataset_folder_path):\n",
    "    with tarfile.open('cifar-10-python.tar.gz') as tar:\n",
    "        tar.extractall()\n",
    "        tar.close()\n",
    "\n",
    "\n",
    "tests.test_folder_path(cifar10_dataset_folder_path)"
   ]
  },
  {
   "cell_type": "markdown",
   "metadata": {
    "deletable": true,
    "editable": true
   },
   "source": [
    "## Explore the Data\n",
    "The dataset is broken into batches to prevent your machine from running out of memory.  The CIFAR-10 dataset consists of 5 batches, named `data_batch_1`, `data_batch_2`, etc.. Each batch contains the labels and images that are one of the following:\n",
    "* airplane\n",
    "* automobile\n",
    "* bird\n",
    "* cat\n",
    "* deer\n",
    "* dog\n",
    "* frog\n",
    "* horse\n",
    "* ship\n",
    "* truck\n",
    "\n",
    "Understanding a dataset is part of making predictions on the data.  Play around with the code cell below by changing the `batch_id` and `sample_id`. The `batch_id` is the id for a batch (1-5). The `sample_id` is the id for a image and label pair in the batch.\n",
    "\n",
    "Ask yourself \"What are all possible labels?\", \"What is the range of values for the image data?\", \"Are the labels in order or random?\".  Answers to questions like these will help you preprocess the data and end up with better predictions."
   ]
  },
  {
   "cell_type": "code",
   "execution_count": 2,
   "metadata": {
    "collapsed": false,
    "deletable": true,
    "editable": true
   },
   "outputs": [
    {
     "name": "stdout",
     "output_type": "stream",
     "text": [
      "\n",
      "Stats of batch 1:\n",
      "Samples: 10000\n",
      "Label Counts: {0: 1005, 1: 974, 2: 1032, 3: 1016, 4: 999, 5: 937, 6: 1030, 7: 1001, 8: 1025, 9: 981}\n",
      "First 20 Labels: [6, 9, 9, 4, 1, 1, 2, 7, 8, 3, 4, 7, 7, 2, 9, 9, 9, 3, 2, 6]\n",
      "\n",
      "Example of Image 5:\n",
      "Image - Min Value: 0 Max Value: 252\n",
      "Image - Shape: (32, 32, 3)\n",
      "Label - Label Id: 1 Name: automobile\n"
     ]
    },
    {
     "data": {
      "image/png": "[encoded data removed]",
      "text/plain": [
       "<matplotlib.figure.Figure at 0x7f45b577b3c8>"
      ]
     },
     "metadata": {
      "image/png": {
       "height": 250,
       "width": 253
      }
     },
     "output_type": "display_data"
    }
   ],
   "source": [
    "%matplotlib inline\n",
    "%config InlineBackend.figure_format = 'retina'\n",
    "\n",
    "import helper\n",
    "import numpy as np\n",
    "\n",
    "# Explore the dataset\n",
    "batch_id = 1\n",
    "sample_id = 5\n",
    "helper.display_stats(cifar10_dataset_folder_path, batch_id, sample_id)"
   ]
  },
  {
   "cell_type": "markdown",
   "metadata": {
    "deletable": true,
    "editable": true
   },
   "source": [
    "## Implement Preprocess Functions\n",
    "### Normalize\n",
    "In the cell below, implement the `normalize` function to take in image data, `x`, and return it as a normalized Numpy array. The values should be in the range of 0 to 1, inclusive.  The return object should be the same shape as `x`."
   ]
  },
  {
   "cell_type": "code",
   "execution_count": 3,
   "metadata": {
    "collapsed": false,
    "deletable": true,
    "editable": true
   },
   "outputs": [
    {
     "name": "stdout",
     "output_type": "stream",
     "text": [
      "Tests Passed\n"
     ]
    }
   ],
   "source": [
    "def normalize(x):\n",
    "    \"\"\"\n",
    "    Normalize a list of sample image data in the range of 0 to 1\n",
    "    : x: List of image data.  The image shape is (32, 32, 3)\n",
    "    : return: Numpy array of normalize data\n",
    "    \"\"\"\n",
    "    # TODO: Implement Function\n",
    "    return x/255\n",
    "\n",
    "\n",
    "\"\"\"\n",
    "DON'T MODIFY ANYTHING IN THIS CELL THAT IS BELOW THIS LINE\n",
    "\"\"\"\n",
    "tests.test_normalize(normalize)"
   ]
  },
  {
   "cell_type": "markdown",
   "metadata": {
    "deletable": true,
    "editable": true
   },
   "source": [
    "### One-hot encode\n",
    "Just like the previous code cell, you'll be implementing a function for preprocessing.  This time, you'll implement the `one_hot_encode` function. The input, `x`, are a list of labels.  Implement the function to return the list of labels as One-Hot encoded Numpy array.  The possible values for labels are 0 to 9. The one-hot encoding function should return the same encoding for each value between each call to `one_hot_encode`.  Make sure to save the map of encodings outside the function.\n",
    "\n",
    "Hint: Don't reinvent the wheel."
   ]
  },
  {
   "cell_type": "code",
   "execution_count": 4,
   "metadata": {
    "collapsed": false,
    "deletable": true,
    "editable": true
   },
   "outputs": [
    {
     "name": "stdout",
     "output_type": "stream",
     "text": [
      "Tests Passed\n"
     ]
    }
   ],
   "source": [
    "def one_hot_encode(x):\n",
    "    one_hot = np.zeros(shape=(len(x), 10))\n",
    "    for i in range(len(x)):\n",
    "        for j in range(10):\n",
    "            one_hot[i][j] = (j == x[i])\n",
    "    return one_hot\n",
    "\n",
    "\"\"\"\n",
    "DON'T MODIFY ANYTHING IN THIS CELL THAT IS BELOW THIS LINE\n",
    "\"\"\"\n",
    "tests.test_one_hot_encode(one_hot_encode)"
   ]
  },
  {
   "cell_type": "markdown",
   "metadata": {
    "deletable": true,
    "editable": true
   },
   "source": [
    "### Randomize Data\n",
    "As you saw from exploring the data above, the order of the samples are randomized.  It doesn't hurt to randomize it again, but you don't need to for this dataset."
   ]
  },
  {
   "cell_type": "markdown",
   "metadata": {
    "deletable": true,
    "editable": true
   },
   "source": [
    "## Preprocess all the data and save it\n",
    "Running the code cell below will preprocess all the CIFAR-10 data and save it to file. The code below also uses 10% of the training data for validation."
   ]
  },
  {
   "cell_type": "code",
   "execution_count": 5,
   "metadata": {
    "collapsed": false,
    "deletable": true,
    "editable": true
   },
   "outputs": [],
   "source": [
    "\"\"\"\n",
    "DON'T MODIFY ANYTHING IN THIS CELL\n",
    "\"\"\"\n",
    "# Preprocess Training, Validation, and Testing Data\n",
    "helper.preprocess_and_save_data(cifar10_dataset_folder_path, normalize, one_hot_encode)"
   ]
  },
  {
   "cell_type": "markdown",
   "metadata": {
    "deletable": true,
    "editable": true
   },
   "source": [
    "# Check Point\n",
    "This is your first checkpoint.  If you ever decide to come back to this notebook or have to restart the notebook, you can start from here.  The preprocessed data has been saved to disk."
   ]
  },
  {
   "cell_type": "code",
   "execution_count": 6,
   "metadata": {
    "collapsed": true,
    "deletable": true,
    "editable": true
   },
   "outputs": [],
   "source": [
    "\"\"\"\n",
    "DON'T MODIFY ANYTHING IN THIS CELL\n",
    "\"\"\"\n",
    "import pickle\n",
    "import problem_unittests as tests\n",
    "import helper\n",
    "\n",
    "# Load the Preprocessed Validation data\n",
    "valid_features, valid_labels = pickle.load(open('preprocess_validation.p', mode='rb'))"
   ]
  },
  {
   "cell_type": "markdown",
   "metadata": {
    "deletable": true,
    "editable": true
   },
   "source": [
    "## Build the network\n",
    "For the neural network, you'll build each layer into a function.  Most of the code you've seen has been outside of functions. To test your code more thoroughly, we require that you put each layer in a function.  This allows us to give you better feedback and test for simple mistakes using our unittests before you submit your project.\n",
    "\n",
    ">**Note:** If you're finding it hard to dedicate enough time for this course each week, we've provided a small shortcut to this part of the project. In the next couple of problems, you'll have the option to use classes from the [TensorFlow Layers](https://www.tensorflow.org/api_docs/python/tf/layers) or [TensorFlow Layers (contrib)](https://www.tensorflow.org/api_guides/python/contrib.layers) packages to build each layer, except the layers you build in the \"Convolutional and Max Pooling Layer\" section.  TF Layers is similar to Keras's and TFLearn's abstraction to layers, so it's easy to pickup.\n",
    "\n",
    ">However, if you would like to get the most out of this course, try to solve all the problems _without_ using anything from the TF Layers packages. You **can** still use classes from other packages that happen to have the same name as ones you find in TF Layers! For example, instead of using the TF Layers version of the `conv2d` class, [tf.layers.conv2d](https://www.tensorflow.org/api_docs/python/tf/layers/conv2d), you would want to use the TF Neural Network version of `conv2d`, [tf.nn.conv2d](https://www.tensorflow.org/api_docs/python/tf/nn/conv2d). \n",
    "\n",
    "Let's begin!\n",
    "\n",
    "### Input\n",
    "The neural network needs to read the image data, one-hot encoded labels, and dropout keep probability. Implement the following functions\n",
    "* Implement `neural_net_image_input`\n",
    " * Return a [TF Placeholder](https://www.tensorflow.org/api_docs/python/tf/placeholder)\n",
    " * Set the shape using `image_shape` with batch size set to `None`.\n",
    " * Name the TensorFlow placeholder \"x\" using the TensorFlow `name` parameter in the [TF Placeholder](https://www.tensorflow.org/api_docs/python/tf/placeholder).\n",
    "* Implement `neural_net_label_input`\n",
    " * Return a [TF Placeholder](https://www.tensorflow.org/api_docs/python/tf/placeholder)\n",
    " * Set the shape using `n_classes` with batch size set to `None`.\n",
    " * Name the TensorFlow placeholder \"y\" using the TensorFlow `name` parameter in the [TF Placeholder](https://www.tensorflow.org/api_docs/python/tf/placeholder).\n",
    "* Implement `neural_net_keep_prob_input`\n",
    " * Return a [TF Placeholder](https://www.tensorflow.org/api_docs/python/tf/placeholder) for dropout keep probability.\n",
    " * Name the TensorFlow placeholder \"keep_prob\" using the TensorFlow `name` parameter in the [TF Placeholder](https://www.tensorflow.org/api_docs/python/tf/placeholder).\n",
    "\n",
    "These names will be used at the end of the project to load your saved model.\n",
    "\n",
    "Note: `None` for shapes in TensorFlow allow for a dynamic size."
   ]
  },
  {
   "cell_type": "code",
   "execution_count": 7,
   "metadata": {
    "collapsed": false,
    "deletable": true,
    "editable": true
   },
   "outputs": [
    {
     "name": "stdout",
     "output_type": "stream",
     "text": [
      "Image Input Tests Passed.\n",
      "Label Input Tests Passed.\n",
      "Keep Prob Tests Passed.\n"
     ]
    }
   ],
   "source": [
    "import tensorflow as tf\n",
    "\n",
    "def neural_net_image_input(image_shape):\n",
    "    \"\"\"\n",
    "    Return a Tensor for a bach of image input\n",
    "    : image_shape: Shape of the images\n",
    "    : return: Tensor for image input.\n",
    "    \"\"\"\n",
    "    # TODO: Implement Function\n",
    "    return tf.placeholder(tf.float32,\n",
    "                          shape=[None,image_shape[0],\n",
    "                                 image_shape[1],\n",
    "                                 image_shape[2]],\n",
    "                          name=\"x\")\n",
    "\n",
    "#Implement neural_net_label_input\n",
    "#Return a TF Placeholder\n",
    "#Set the shape using n_classes with batch size set to None.\n",
    "#Name the TensorFlow placeholder \"y\" using the TensorFlow name parameter in the TF Placeholder.\n",
    "\n",
    "def neural_net_label_input(n_classes):\n",
    "    \"\"\"\n",
    "    Return a Tensor for a batch of label input\n",
    "    : n_classes: Number of classes\n",
    "    : return: Tensor for label input.\n",
    "    \"\"\"\n",
    "    # TODO: Implement Function\n",
    "    return tf.placeholder(tf.float32,\n",
    "                          shape=[None, n_classes],\n",
    "                          name=\"y\")\n",
    "\n",
    "# Implement neural_net_keep_prob_input\n",
    "# Return a TF Placeholder for dropout keep probability.\n",
    "# Name the TensorFlow placeholder \"keep_prob\" using the TensorFlow name parameter in the TF Placeholder.\n",
    "\n",
    "def neural_net_keep_prob_input():\n",
    "    \"\"\"\n",
    "    Return a Tensor for keep probability\n",
    "    : return: Tensor for keep probability.\n",
    "    \"\"\"\n",
    "    # TODO: Implement Function\n",
    "    return tf.placeholder(tf.float32,\n",
    "                          name=\"keep_prob\")\n",
    "\n",
    "\n",
    "\"\"\"\n",
    "DON'T MODIFY ANYTHING IN THIS CELL THAT IS BELOW THIS LINE\n",
    "\"\"\"\n",
    "tf.reset_default_graph()\n",
    "tests.test_nn_image_inputs(neural_net_image_input)\n",
    "tests.test_nn_label_inputs(neural_net_label_input)\n",
    "tests.test_nn_keep_prob_inputs(neural_net_keep_prob_input)"
   ]
  },
  {
   "cell_type": "markdown",
   "metadata": {
    "deletable": true,
    "editable": true
   },
   "source": [
    "### Convolution and Max Pooling Layer\n",
    "Convolution layers have a lot of success with images. For this code cell, you should implement the function `conv2d_maxpool` to apply convolution then max pooling:\n",
    "* Create the weight and bias using `conv_ksize`, `conv_num_outputs` and the shape of `x_tensor`.\n",
    "* Apply a convolution to `x_tensor` using weight and `conv_strides`.\n",
    " * We recommend you use same padding, but you're welcome to use any padding.\n",
    "* Add bias\n",
    "* Add a nonlinear activation to the convolution.\n",
    "* Apply Max Pooling using `pool_ksize` and `pool_strides`.\n",
    " * We recommend you use same padding, but you're welcome to use any padding.\n",
    "\n",
    "**Note:** You **can't** use [TensorFlow Layers](https://www.tensorflow.org/api_docs/python/tf/layers) or [TensorFlow Layers (contrib)](https://www.tensorflow.org/api_guides/python/contrib.layers) for **this** layer, but you can still use TensorFlow's [Neural Network](https://www.tensorflow.org/api_docs/python/tf/nn) package. You may still use the shortcut option for all the **other** layers."
   ]
  },
  {
   "cell_type": "code",
   "execution_count": 8,
   "metadata": {
    "collapsed": false,
    "deletable": true,
    "editable": true
   },
   "outputs": [
    {
     "name": "stdout",
     "output_type": "stream",
     "text": [
      "Tests Passed\n"
     ]
    }
   ],
   "source": [
    "def conv2d_maxpool(x_tensor, conv_num_outputs, conv_ksize,\n",
    "                   conv_strides, pool_ksize, pool_strides):\n",
    "    \"\"\"\n",
    "    Apply convolution then max pooling to x_tensor\n",
    "    :param x_tensor: TensorFlow Tensor\n",
    "    :param conv_num_outputs: Number of outputs for the convolutional layer\n",
    "    :param conv_ksize: kernal size 2-D Tuple for the convolutional layer\n",
    "    :param conv_strides: Stride 2-D Tuple for convolution\n",
    "    :param pool_ksize: kernal size 2-D Tuple for pool\n",
    "    :param pool_strides: Stride 2-D Tuple for pool\n",
    "    : return: A tensor that represents convolution and max pooling of x_tensor\n",
    "    \"\"\"\n",
    "    # TODO: Implement Function\n",
    "    W = tf.Variable(tf.truncated_normal(shape=[conv_ksize[0],\n",
    "                                               conv_ksize[1],\n",
    "                                               x_tensor.get_shape().as_list()[-1],\n",
    "                                               conv_num_outputs],\n",
    "                                        mean=0.0, stddev=0.1))\n",
    "    \n",
    "    b = tf.Variable(tf.zeros([conv_num_outputs]))\n",
    "    \n",
    "    x_tensor = tf.nn.conv2d(x_tensor, W,\n",
    "                 strides=[1, conv_strides[0], conv_strides[1], 1],\n",
    "                 padding='SAME')\n",
    "\n",
    "    x_tensor = tf.nn.bias_add(x_tensor, b)\n",
    "\n",
    "    x_tensor = tf.nn.relu(x_tensor)\n",
    "\n",
    "    x_tensor = tf.nn.max_pool(x_tensor, ksize=[1, pool_ksize[0], pool_ksize[1], 1],\n",
    "                          strides=[1, pool_strides[0], pool_strides[1], 1],\n",
    "                          padding='SAME')\n",
    "\n",
    "    return x_tensor\n",
    "\n",
    "\n",
    "\"\"\"\n",
    "DON'T MODIFY ANYTHING IN THIS CELL THAT IS BELOW THIS LINE\n",
    "\"\"\"\n",
    "tests.test_con_pool(conv2d_maxpool)"
   ]
  },
  {
   "cell_type": "markdown",
   "metadata": {
    "deletable": true,
    "editable": true
   },
   "source": [
    "### Flatten Layer\n",
    "Implement the `flatten` function to change the dimension of `x_tensor` from a 4-D tensor to a 2-D tensor.  The output should be the shape (*Batch Size*, *Flattened Image Size*). Shortcut option: you can use classes from the [TensorFlow Layers](https://www.tensorflow.org/api_docs/python/tf/layers) or [TensorFlow Layers (contrib)](https://www.tensorflow.org/api_guides/python/contrib.layers) packages for this layer. For more of a challenge, only use other TensorFlow packages."
   ]
  },
  {
   "cell_type": "code",
   "execution_count": 9,
   "metadata": {
    "collapsed": false,
    "deletable": true,
    "editable": true
   },
   "outputs": [
    {
     "name": "stdout",
     "output_type": "stream",
     "text": [
      "Tests Passed\n"
     ]
    }
   ],
   "source": [
    "def flatten(x_tensor):\n",
    "    \"\"\"\n",
    "    Flatten x_tensor to (Batch Size, Flattened Image Size)\n",
    "    : x_tensor: A tensor of size (Batch Size, ...), where ... are the image dimensions.\n",
    "    : return: A tensor of size (Batch Size, Flattened Image Size).\n",
    "    \"\"\"\n",
    "    # TODO: Implement Function\n",
    "    return tf.contrib.layers.flatten(x_tensor)\n",
    "\n",
    "\n",
    "\"\"\"\n",
    "DON'T MODIFY ANYTHING IN THIS CELL THAT IS BELOW THIS LINE\n",
    "\"\"\"\n",
    "tests.test_flatten(flatten)"
   ]
  },
  {
   "cell_type": "markdown",
   "metadata": {
    "deletable": true,
    "editable": true
   },
   "source": [
    "### Fully-Connected Layer\n",
    "Implement the `fully_conn` function to apply a fully connected layer to `x_tensor` with the shape (*Batch Size*, *num_outputs*). Shortcut option: you can use classes from the [TensorFlow Layers](https://www.tensorflow.org/api_docs/python/tf/layers) or [TensorFlow Layers (contrib)](https://www.tensorflow.org/api_guides/python/contrib.layers) packages for this layer. For more of a challenge, only use other TensorFlow packages."
   ]
  },
  {
   "cell_type": "code",
   "execution_count": 10,
   "metadata": {
    "collapsed": false,
    "deletable": true,
    "editable": true
   },
   "outputs": [
    {
     "name": "stdout",
     "output_type": "stream",
     "text": [
      "Tests Passed\n"
     ]
    }
   ],
   "source": [
    "def fully_conn(x_tensor, num_outputs):\n",
    "    \"\"\"\n",
    "    Apply a fully connected layer to x_tensor using weight and bias\n",
    "    : x_tensor: A 2-D tensor where the first dimension is batch size.\n",
    "    : num_outputs: The number of output that the new tensor should be.\n",
    "    : return: A 2-D tensor where the second dimension is num_outputs.\n",
    "    \"\"\"\n",
    "    # TODO: Implement Function\n",
    "    return tf.contrib.layers.fully_connected(inputs=x_tensor,\n",
    "                                             num_outputs=num_outputs)\n",
    "\n",
    "\n",
    "\"\"\"\n",
    "DON'T MODIFY ANYTHING IN THIS CELL THAT IS BELOW THIS LINE\n",
    "\"\"\"\n",
    "tests.test_fully_conn(fully_conn)"
   ]
  },
  {
   "cell_type": "markdown",
   "metadata": {
    "deletable": true,
    "editable": true
   },
   "source": [
    "### Output Layer\n",
    "Implement the `output` function to apply a fully connected layer to `x_tensor` with the shape (*Batch Size*, *num_outputs*). Shortcut option: you can use classes from the [TensorFlow Layers](https://www.tensorflow.org/api_docs/python/tf/layers) or [TensorFlow Layers (contrib)](https://www.tensorflow.org/api_guides/python/contrib.layers) packages for this layer. For more of a challenge, only use other TensorFlow packages.\n",
    "\n",
    "**Note:** Activation, softmax, or cross entropy should **not** be applied to this."
   ]
  },
  {
   "cell_type": "code",
   "execution_count": 11,
   "metadata": {
    "collapsed": false,
    "deletable": true,
    "editable": true
   },
   "outputs": [
    {
     "name": "stdout",
     "output_type": "stream",
     "text": [
      "Tests Passed\n"
     ]
    }
   ],
   "source": [
    "def output(x_tensor, num_outputs):\n",
    "    \"\"\"\n",
    "    Apply a output layer to x_tensor using weight and bias\n",
    "    : x_tensor: A 2-D tensor where the first dimension is batch size.\n",
    "    : num_outputs: The number of output that the new tensor should be.\n",
    "    : return: A 2-D tensor where the second dimension is num_outputs.\n",
    "    \"\"\"\n",
    "    # TODO: Implement Function\n",
    "    return tf.contrib.layers.fully_connected(inputs=x_tensor,\n",
    "                                                 num_outputs=num_outputs)\n",
    "\n",
    "\n",
    "\"\"\"\n",
    "DON'T MODIFY ANYTHING IN THIS CELL THAT IS BELOW THIS LINE\n",
    "\"\"\"\n",
    "tests.test_output(output)"
   ]
  },
  {
   "cell_type": "markdown",
   "metadata": {
    "deletable": true,
    "editable": true
   },
   "source": [
    "### Create Convolutional Model\n",
    "Implement the function `conv_net` to create a convolutional neural network model. The function takes in a batch of images, `x`, and outputs logits.  Use the layers you created above to create this model:\n",
    "\n",
    "* Apply 1, 2, or 3 Convolution and Max Pool layers\n",
    "* Apply a Flatten Layer\n",
    "* Apply 1, 2, or 3 Fully Connected Layers\n",
    "* Apply an Output Layer\n",
    "* Return the output\n",
    "* Apply [TensorFlow's Dropout](https://www.tensorflow.org/api_docs/python/tf/nn/dropout) to one or more layers in the model using `keep_prob`. "
   ]
  },
  {
   "cell_type": "code",
   "execution_count": 12,
   "metadata": {
    "collapsed": false,
    "deletable": true,
    "editable": true
   },
   "outputs": [
    {
     "name": "stdout",
     "output_type": "stream",
     "text": [
      "Neural Network Built!\n"
     ]
    }
   ],
   "source": [
    "def conv_net(x, keep_prob):\n",
    "    \"\"\"\n",
    "    Create a convolutional neural network model\n",
    "    : x: Placeholder tensor that holds image data.\n",
    "    : keep_prob: Placeholder tensor that hold dropout keep probability.\n",
    "    : return: Tensor that represents logits\n",
    "    \"\"\"\n",
    "    # TODO: Apply 1, 2, or 3 Convolution and Max Pool layers\n",
    "    #    Play around with different number of outputs, kernel size and stride\n",
    "    \n",
    "    # 1st convolution\n",
    "    x = conv2d_maxpool(x,\n",
    "                   conv_num_outputs=32,\n",
    "                   conv_ksize=(4,4),\n",
    "                   conv_strides=(1,1),\n",
    "                   pool_ksize=(2,2),\n",
    "                   pool_strides=(1,1))\n",
    "    \n",
    "    # 2nd convolution\n",
    "    x = conv2d_maxpool(x,\n",
    "               conv_num_outputs=32,\n",
    "               conv_ksize=(5,5),\n",
    "               conv_strides=(1,1),\n",
    "               pool_ksize=(2,2),\n",
    "               pool_strides=(2,2))\n",
    "    \n",
    "    # 3rd convolution\n",
    "    x = conv2d_maxpool(x,\n",
    "               conv_num_outputs=32,\n",
    "               conv_ksize=(5,5),\n",
    "               conv_strides=(1,1),\n",
    "               pool_ksize=(2,2),\n",
    "               pool_strides=(2,2))\n",
    "    \n",
    "    # TODO: Apply a Flatten Layer\n",
    "    x = flatten(x)\n",
    "\n",
    "    # TODO: Apply 1, 2, or 3 Fully Connected Layers\n",
    "    #    Play around with different number of outputs\n",
    "    \n",
    "    # 1st fully-connected layer\n",
    "    x = fully_conn(x, 256)\n",
    "    x = tf.nn.relu(x)\n",
    "    \n",
    "    # 2nd fully-connected layer\n",
    "    x = fully_conn(x, 128)\n",
    "    x = tf.nn.relu(x)\n",
    "\n",
    "    # TODO: Apply an Output Layer\n",
    "    #    Set this to the number of classes\n",
    "    x = output(x, 10)\n",
    "\n",
    "    # TODO: return output\n",
    "    return x\n",
    "\n",
    "\n",
    "\"\"\"\n",
    "DON'T MODIFY ANYTHING IN THIS CELL THAT IS BELOW THIS LINE\n",
    "\"\"\"\n",
    "\n",
    "##############################\n",
    "## Build the Neural Network ##\n",
    "##############################\n",
    "\n",
    "# Remove previous weights, bias, inputs, etc..\n",
    "tf.reset_default_graph()\n",
    "\n",
    "# Inputs\n",
    "x = neural_net_image_input((32, 32, 3))\n",
    "y = neural_net_label_input(10)\n",
    "keep_prob = neural_net_keep_prob_input()\n",
    "\n",
    "# Model\n",
    "logits = conv_net(x, keep_prob)\n",
    "\n",
    "# Name logits Tensor, so that is can be loaded from disk after training\n",
    "logits = tf.identity(logits, name='logits')\n",
    "\n",
    "# Loss and Optimizer\n",
    "cost = tf.reduce_mean(tf.nn.softmax_cross_entropy_with_logits(logits=logits, labels=y))\n",
    "optimizer = tf.train.AdagradOptimizer(learning_rate=.01).minimize(cost)\n",
    "\n",
    "# Accuracy\n",
    "correct_pred = tf.equal(tf.argmax(logits, 1), tf.argmax(y, 1))\n",
    "accuracy = tf.reduce_mean(tf.cast(correct_pred, tf.float32), name='accuracy')\n",
    "\n",
    "tests.test_conv_net(conv_net)"
   ]
  },
  {
   "cell_type": "markdown",
   "metadata": {
    "deletable": true,
    "editable": true
   },
   "source": [
    "## Train the Neural Network\n",
    "### Single Optimization\n",
    "Implement the function `train_neural_network` to do a single optimization.  The optimization should use `optimizer` to optimize in `session` with a `feed_dict` of the following:\n",
    "* `x` for image input\n",
    "* `y` for labels\n",
    "* `keep_prob` for keep probability for dropout\n",
    "\n",
    "This function will be called for each batch, so `tf.global_variables_initializer()` has already been called.\n",
    "\n",
    "Note: Nothing needs to be returned. This function is only optimizing the neural network."
   ]
  },
  {
   "cell_type": "code",
   "execution_count": 13,
   "metadata": {
    "collapsed": false,
    "deletable": true,
    "editable": true
   },
   "outputs": [
    {
     "name": "stdout",
     "output_type": "stream",
     "text": [
      "Tests Passed\n"
     ]
    }
   ],
   "source": [
    "def train_neural_network(session, optimizer, keep_probability, feature_batch, label_batch):\n",
    "    \"\"\"\n",
    "    Optimize the session on a batch of images and labels\n",
    "    : session: Current TensorFlow session\n",
    "    : optimizer: TensorFlow optimizer function\n",
    "    : keep_probability: keep probability\n",
    "    : feature_batch: Batch of Numpy image data\n",
    "    : label_batch: Batch of Numpy label data\n",
    "    \"\"\"\n",
    "    # TODO: Implement Function\n",
    "    session.run(optimizer, feed_dict={\n",
    "            x: feature_batch,\n",
    "            y: label_batch,\n",
    "            keep_prob: keep_probability})\n",
    "        \n",
    "\n",
    "\"\"\"\n",
    "DON'T MODIFY ANYTHING IN THIS CELL THAT IS BELOW THIS LINE\n",
    "\"\"\"\n",
    "tests.test_train_nn(train_neural_network)"
   ]
  },
  {
   "cell_type": "markdown",
   "metadata": {
    "deletable": true,
    "editable": true
   },
   "source": [
    "### Show Stats\n",
    "Implement the function `print_stats` to print loss and validation accuracy.  Use the global variables `valid_features` and `valid_labels` to calculate validation accuracy.  Use a keep probability of `1.0` to calculate the loss and validation accuracy."
   ]
  },
  {
   "cell_type": "code",
   "execution_count": 14,
   "metadata": {
    "collapsed": false,
    "deletable": true,
    "editable": true
   },
   "outputs": [],
   "source": [
    "def print_stats(session, feature_batch, label_batch, cost, accuracy):\n",
    "    \"\"\"\n",
    "    Print information about loss and validation accuracy\n",
    "    : session: Current TensorFlow session\n",
    "    : feature_batch: Batch of Numpy image data\n",
    "    : label_batch: Batch of Numpy label data\n",
    "    : cost: TensorFlow cost function\n",
    "    : accuracy: TensorFlow accuracy function\n",
    "    \"\"\"\n",
    "    # TODO: Implement Function\n",
    "    \n",
    "    loss = session.run(cost, feed_dict={x: feature_batch,\n",
    "                                        y: label_batch,\n",
    "                                        keep_prob: 1.})\n",
    "    \n",
    "    valid_acc = session.run(accuracy, feed_dict={x: valid_features,\n",
    "                                                 y: valid_labels,\n",
    "                                                 keep_prob: 1.})\n",
    "\n",
    "    print('Validation Accuracy: {}'.format(valid_acc))"
   ]
  },
  {
   "cell_type": "markdown",
   "metadata": {
    "deletable": true,
    "editable": true
   },
   "source": [
    "### Hyperparameters\n",
    "Tune the following parameters:\n",
    "* Set `epochs` to the number of iterations until the network stops learning or start overfitting\n",
    "* Set `batch_size` to the highest number that your machine has memory for.  Most people set them to common sizes of memory:\n",
    " * 64\n",
    " * 128\n",
    " * 256\n",
    " * ...\n",
    "* Set `keep_probability` to the probability of keeping a node using dropout"
   ]
  },
  {
   "cell_type": "code",
   "execution_count": 22,
   "metadata": {
    "collapsed": true,
    "deletable": true,
    "editable": true
   },
   "outputs": [],
   "source": [
    "# TODO: Tune Parameters\n",
    "epochs = 45\n",
    "batch_size = 128\n",
    "keep_probability = .8"
   ]
  },
  {
   "cell_type": "markdown",
   "metadata": {
    "deletable": true,
    "editable": true
   },
   "source": [
    "### Train on a Single CIFAR-10 Batch\n",
    "Instead of training the neural network on all the CIFAR-10 batches of data, let's use a single batch. This should save time while you iterate on the model to get a better accuracy.  Once the final validation accuracy is 50% or greater, run the model on all the data in the next section."
   ]
  },
  {
   "cell_type": "code",
   "execution_count": 23,
   "metadata": {
    "collapsed": false,
    "deletable": true,
    "editable": true,
    "scrolled": true
   },
   "outputs": [
    {
     "name": "stdout",
     "output_type": "stream",
     "text": [
      "Checking the Training on a Single Batch...\n",
      "Epoch  1, CIFAR-10 Batch 1:  Validation Accuracy: 0.26159998774528503\n",
      "Epoch  2, CIFAR-10 Batch 1:  Validation Accuracy: 0.3163999915122986\n",
      "Epoch  3, CIFAR-10 Batch 1:  Validation Accuracy: 0.30399996042251587\n",
      "Epoch  4, CIFAR-10 Batch 1:  Validation Accuracy: 0.3097999691963196\n",
      "Epoch  5, CIFAR-10 Batch 1:  Validation Accuracy: 0.350600004196167\n",
      "Epoch  6, CIFAR-10 Batch 1:  Validation Accuracy: 0.3531999886035919\n",
      "Epoch  7, CIFAR-10 Batch 1:  Validation Accuracy: 0.3537999987602234\n",
      "Epoch  8, CIFAR-10 Batch 1:  Validation Accuracy: 0.36739999055862427\n",
      "Epoch  9, CIFAR-10 Batch 1:  Validation Accuracy: 0.3717999756336212\n",
      "Epoch 10, CIFAR-10 Batch 1:  Validation Accuracy: 0.37839996814727783\n",
      "Epoch 11, CIFAR-10 Batch 1:  Validation Accuracy: 0.3790000081062317\n",
      "Epoch 12, CIFAR-10 Batch 1:  Validation Accuracy: 0.3811999559402466\n",
      "Epoch 13, CIFAR-10 Batch 1:  Validation Accuracy: 0.3903999924659729\n",
      "Epoch 14, CIFAR-10 Batch 1:  Validation Accuracy: 0.4057999849319458\n",
      "Epoch 15, CIFAR-10 Batch 1:  Validation Accuracy: 0.4121999740600586\n",
      "Epoch 16, CIFAR-10 Batch 1:  Validation Accuracy: 0.4241999387741089\n",
      "Epoch 17, CIFAR-10 Batch 1:  Validation Accuracy: 0.42219996452331543\n",
      "Epoch 18, CIFAR-10 Batch 1:  Validation Accuracy: 0.47099995613098145\n",
      "Epoch 19, CIFAR-10 Batch 1:  Validation Accuracy: 0.4827999770641327\n",
      "Epoch 20, CIFAR-10 Batch 1:  Validation Accuracy: 0.47739994525909424\n",
      "Epoch 21, CIFAR-10 Batch 1:  Validation Accuracy: 0.48159998655319214\n",
      "Epoch 22, CIFAR-10 Batch 1:  Validation Accuracy: 0.48499995470046997\n",
      "Epoch 23, CIFAR-10 Batch 1:  Validation Accuracy: 0.5273998975753784\n",
      "Epoch 24, CIFAR-10 Batch 1:  Validation Accuracy: 0.5115998983383179\n",
      "Epoch 25, CIFAR-10 Batch 1:  Validation Accuracy: 0.5323998928070068\n",
      "Epoch 26, CIFAR-10 Batch 1:  Validation Accuracy: 0.5139999389648438\n",
      "Epoch 27, CIFAR-10 Batch 1:  Validation Accuracy: 0.5317999720573425\n",
      "Epoch 28, CIFAR-10 Batch 1:  Validation Accuracy: 0.5261999368667603\n",
      "Epoch 29, CIFAR-10 Batch 1:  Validation Accuracy: 0.5171999931335449\n",
      "Epoch 30, CIFAR-10 Batch 1:  Validation Accuracy: 0.5455999374389648\n",
      "Epoch 31, CIFAR-10 Batch 1:  Validation Accuracy: 0.5565999746322632\n",
      "Epoch 32, CIFAR-10 Batch 1:  Validation Accuracy: 0.5535999536514282\n",
      "Epoch 33, CIFAR-10 Batch 1:  Validation Accuracy: 0.5595999360084534\n",
      "Epoch 34, CIFAR-10 Batch 1:  Validation Accuracy: 0.5663999319076538\n",
      "Epoch 35, CIFAR-10 Batch 1:  Validation Accuracy: 0.5719999074935913\n",
      "Epoch 36, CIFAR-10 Batch 1:  Validation Accuracy: 0.5573998689651489\n",
      "Epoch 37, CIFAR-10 Batch 1:  Validation Accuracy: 0.5737999081611633\n",
      "Epoch 38, CIFAR-10 Batch 1:  Validation Accuracy: 0.5727998614311218\n",
      "Epoch 39, CIFAR-10 Batch 1:  Validation Accuracy: 0.572399914264679\n",
      "Epoch 40, CIFAR-10 Batch 1:  Validation Accuracy: 0.5727999210357666\n",
      "Epoch 41, CIFAR-10 Batch 1:  Validation Accuracy: 0.5727999806404114\n",
      "Epoch 42, CIFAR-10 Batch 1:  Validation Accuracy: 0.5603999495506287\n",
      "Epoch 43, CIFAR-10 Batch 1:  Validation Accuracy: 0.5735999345779419\n",
      "Epoch 44, CIFAR-10 Batch 1:  Validation Accuracy: 0.5751999020576477\n",
      "Epoch 45, CIFAR-10 Batch 1:  Validation Accuracy: 0.5755999088287354\n"
     ]
    }
   ],
   "source": [
    "\"\"\"\n",
    "DON'T MODIFY ANYTHING IN THIS CELL\n",
    "\"\"\"\n",
    "print('Checking the Training on a Single Batch...')\n",
    "with tf.Session() as sess:\n",
    "    # Initializing the variables\n",
    "    sess.run(tf.global_variables_initializer())\n",
    "    \n",
    "    # Training cycle\n",
    "    for epoch in range(epochs):\n",
    "        batch_i = 1\n",
    "        for batch_features, batch_labels in helper.load_preprocess_training_batch(batch_i, batch_size):\n",
    "            train_neural_network(sess, optimizer, keep_probability, batch_features, batch_labels)\n",
    "        print('Epoch {:>2}, CIFAR-10 Batch {}:  '.format(epoch + 1, batch_i), end='')\n",
    "        print_stats(sess, batch_features, batch_labels, cost, accuracy)"
   ]
  },
  {
   "cell_type": "markdown",
   "metadata": {
    "deletable": true,
    "editable": true
   },
   "source": [
    "### Fully Train the Model\n",
    "Now that you got a good accuracy with a single CIFAR-10 batch, try it with all five batches."
   ]
  },
  {
   "cell_type": "code",
   "execution_count": 24,
   "metadata": {
    "collapsed": false,
    "deletable": true,
    "editable": true
   },
   "outputs": [
    {
     "name": "stdout",
     "output_type": "stream",
     "text": [
      "Training...\n",
      "Epoch  1, CIFAR-10 Batch 1:  Validation Accuracy: 0.20099999010562897\n",
      "Epoch  1, CIFAR-10 Batch 2:  Validation Accuracy: 0.31219998002052307\n",
      "Epoch  1, CIFAR-10 Batch 3:  Validation Accuracy: 0.23799999058246613\n",
      "Epoch  1, CIFAR-10 Batch 4:  Validation Accuracy: 0.40519997477531433\n",
      "Epoch  1, CIFAR-10 Batch 5:  Validation Accuracy: 0.4513999819755554\n",
      "Epoch  2, CIFAR-10 Batch 1:  Validation Accuracy: 0.41759997606277466\n",
      "Epoch  2, CIFAR-10 Batch 2:  Validation Accuracy: 0.45340001583099365\n",
      "Epoch  2, CIFAR-10 Batch 3:  Validation Accuracy: 0.43759995698928833\n",
      "Epoch  2, CIFAR-10 Batch 4:  Validation Accuracy: 0.481999933719635\n",
      "Epoch  2, CIFAR-10 Batch 5:  Validation Accuracy: 0.50819993019104\n",
      "Epoch  3, CIFAR-10 Batch 1:  Validation Accuracy: 0.47419998049736023\n",
      "Epoch  3, CIFAR-10 Batch 2:  Validation Accuracy: 0.5077999830245972\n",
      "Epoch  3, CIFAR-10 Batch 3:  Validation Accuracy: 0.4979999363422394\n",
      "Epoch  3, CIFAR-10 Batch 4:  Validation Accuracy: 0.5179999470710754\n",
      "Epoch  3, CIFAR-10 Batch 5:  Validation Accuracy: 0.5461999177932739\n",
      "Epoch  4, CIFAR-10 Batch 1:  Validation Accuracy: 0.5211999416351318\n",
      "Epoch  4, CIFAR-10 Batch 2:  Validation Accuracy: 0.5457999110221863\n",
      "Epoch  4, CIFAR-10 Batch 3:  Validation Accuracy: 0.5511999130249023\n",
      "Epoch  4, CIFAR-10 Batch 4:  Validation Accuracy: 0.5582000017166138\n",
      "Epoch  4, CIFAR-10 Batch 5:  Validation Accuracy: 0.5791999697685242\n",
      "Epoch  5, CIFAR-10 Batch 1:  Validation Accuracy: 0.5507999658584595\n",
      "Epoch  5, CIFAR-10 Batch 2:  Validation Accuracy: 0.5703999400138855\n",
      "Epoch  5, CIFAR-10 Batch 3:  Validation Accuracy: 0.5661998987197876\n",
      "Epoch  5, CIFAR-10 Batch 4:  Validation Accuracy: 0.5889999270439148\n",
      "Epoch  5, CIFAR-10 Batch 5:  Validation Accuracy: 0.6025999784469604\n",
      "Epoch  6, CIFAR-10 Batch 1:  Validation Accuracy: 0.5649999380111694\n",
      "Epoch  6, CIFAR-10 Batch 2:  Validation Accuracy: 0.5829999446868896\n",
      "Epoch  6, CIFAR-10 Batch 3:  Validation Accuracy: 0.5929999351501465\n",
      "Epoch  6, CIFAR-10 Batch 4:  Validation Accuracy: 0.6061998605728149\n",
      "Epoch  6, CIFAR-10 Batch 5:  Validation Accuracy: 0.6151999235153198\n",
      "Epoch  7, CIFAR-10 Batch 1:  Validation Accuracy: 0.5819998979568481\n",
      "Epoch  7, CIFAR-10 Batch 2:  Validation Accuracy: 0.6009998917579651\n",
      "Epoch  7, CIFAR-10 Batch 3:  Validation Accuracy: 0.6129999160766602\n",
      "Epoch  7, CIFAR-10 Batch 4:  Validation Accuracy: 0.6209999322891235\n",
      "Epoch  7, CIFAR-10 Batch 5:  Validation Accuracy: 0.6231999397277832\n",
      "Epoch  8, CIFAR-10 Batch 1:  Validation Accuracy: 0.587399959564209\n",
      "Epoch  8, CIFAR-10 Batch 2:  Validation Accuracy: 0.6133999228477478\n",
      "Epoch  8, CIFAR-10 Batch 3:  Validation Accuracy: 0.6123998761177063\n",
      "Epoch  8, CIFAR-10 Batch 4:  Validation Accuracy: 0.6283999085426331\n",
      "Epoch  8, CIFAR-10 Batch 5:  Validation Accuracy: 0.6359999179840088\n",
      "Epoch  9, CIFAR-10 Batch 1:  Validation Accuracy: 0.5977998971939087\n",
      "Epoch  9, CIFAR-10 Batch 2:  Validation Accuracy: 0.6179999113082886\n",
      "Epoch  9, CIFAR-10 Batch 3:  Validation Accuracy: 0.6243999004364014\n",
      "Epoch  9, CIFAR-10 Batch 4:  Validation Accuracy: 0.6339998841285706\n",
      "Epoch  9, CIFAR-10 Batch 5:  Validation Accuracy: 0.6415998935699463\n",
      "Epoch 10, CIFAR-10 Batch 1:  Validation Accuracy: 0.6047999262809753\n",
      "Epoch 10, CIFAR-10 Batch 2:  Validation Accuracy: 0.6263998746871948\n",
      "Epoch 10, CIFAR-10 Batch 3:  Validation Accuracy: 0.6315999031066895\n",
      "Epoch 10, CIFAR-10 Batch 4:  Validation Accuracy: 0.6405998468399048\n",
      "Epoch 10, CIFAR-10 Batch 5:  Validation Accuracy: 0.6515998840332031\n",
      "Epoch 11, CIFAR-10 Batch 1:  Validation Accuracy: 0.6251998543739319\n",
      "Epoch 11, CIFAR-10 Batch 2:  Validation Accuracy: 0.6395998597145081\n",
      "Epoch 11, CIFAR-10 Batch 3:  Validation Accuracy: 0.6399998664855957\n",
      "Epoch 11, CIFAR-10 Batch 4:  Validation Accuracy: 0.6449998617172241\n",
      "Epoch 11, CIFAR-10 Batch 5:  Validation Accuracy: 0.6575998663902283\n",
      "Epoch 12, CIFAR-10 Batch 1:  Validation Accuracy: 0.6331998705863953\n",
      "Epoch 12, CIFAR-10 Batch 2:  Validation Accuracy: 0.6451998949050903\n",
      "Epoch 12, CIFAR-10 Batch 3:  Validation Accuracy: 0.6459999084472656\n",
      "Epoch 12, CIFAR-10 Batch 4:  Validation Accuracy: 0.6463999152183533\n",
      "Epoch 12, CIFAR-10 Batch 5:  Validation Accuracy: 0.6643998622894287\n",
      "Epoch 13, CIFAR-10 Batch 1:  Validation Accuracy: 0.6459998488426208\n",
      "Epoch 13, CIFAR-10 Batch 2:  Validation Accuracy: 0.6507998704910278\n",
      "Epoch 13, CIFAR-10 Batch 3:  Validation Accuracy: 0.6565998792648315\n",
      "Epoch 13, CIFAR-10 Batch 4:  Validation Accuracy: 0.6533998250961304\n",
      "Epoch 13, CIFAR-10 Batch 5:  Validation Accuracy: 0.6669998168945312\n",
      "Epoch 14, CIFAR-10 Batch 1:  Validation Accuracy: 0.6489999294281006\n",
      "Epoch 14, CIFAR-10 Batch 2:  Validation Accuracy: 0.6517999172210693\n",
      "Epoch 14, CIFAR-10 Batch 3:  Validation Accuracy: 0.6559998989105225\n",
      "Epoch 14, CIFAR-10 Batch 4:  Validation Accuracy: 0.6583999395370483\n",
      "Epoch 14, CIFAR-10 Batch 5:  Validation Accuracy: 0.6745998859405518\n",
      "Epoch 15, CIFAR-10 Batch 1:  Validation Accuracy: 0.6555999517440796\n",
      "Epoch 15, CIFAR-10 Batch 2:  Validation Accuracy: 0.656999945640564\n",
      "Epoch 15, CIFAR-10 Batch 3:  Validation Accuracy: 0.6611999273300171\n",
      "Epoch 15, CIFAR-10 Batch 4:  Validation Accuracy: 0.6607999205589294\n",
      "Epoch 15, CIFAR-10 Batch 5:  Validation Accuracy: 0.6757998466491699\n",
      "Epoch 16, CIFAR-10 Batch 1:  Validation Accuracy: 0.6543999314308167\n",
      "Epoch 16, CIFAR-10 Batch 2:  Validation Accuracy: 0.6595999002456665\n",
      "Epoch 16, CIFAR-10 Batch 3:  Validation Accuracy: 0.6597999334335327\n",
      "Epoch 16, CIFAR-10 Batch 4:  Validation Accuracy: 0.66159987449646\n",
      "Epoch 16, CIFAR-10 Batch 5:  Validation Accuracy: 0.674799919128418\n",
      "Epoch 17, CIFAR-10 Batch 1:  Validation Accuracy: 0.6599998474121094\n",
      "Epoch 17, CIFAR-10 Batch 2:  Validation Accuracy: 0.6631999015808105\n",
      "Epoch 17, CIFAR-10 Batch 3:  Validation Accuracy: 0.6607999205589294\n",
      "Epoch 17, CIFAR-10 Batch 4:  Validation Accuracy: 0.6625998020172119\n",
      "Epoch 17, CIFAR-10 Batch 5:  Validation Accuracy: 0.6735998392105103\n",
      "Epoch 18, CIFAR-10 Batch 1:  Validation Accuracy: 0.6653999090194702\n",
      "Epoch 18, CIFAR-10 Batch 2:  Validation Accuracy: 0.6659998893737793\n",
      "Epoch 18, CIFAR-10 Batch 3:  Validation Accuracy: 0.665199875831604\n",
      "Epoch 18, CIFAR-10 Batch 4:  Validation Accuracy: 0.6661998629570007\n",
      "Epoch 18, CIFAR-10 Batch 5:  Validation Accuracy: 0.6761998534202576\n",
      "Epoch 19, CIFAR-10 Batch 1:  Validation Accuracy: 0.665199875831604\n",
      "Epoch 19, CIFAR-10 Batch 2:  Validation Accuracy: 0.6649999022483826\n",
      "Epoch 19, CIFAR-10 Batch 3:  Validation Accuracy: 0.6711998581886292\n",
      "Epoch 19, CIFAR-10 Batch 4:  Validation Accuracy: 0.6663998365402222\n",
      "Epoch 19, CIFAR-10 Batch 5:  Validation Accuracy: 0.6769998669624329\n",
      "Epoch 20, CIFAR-10 Batch 1:  Validation Accuracy: 0.6663999557495117\n",
      "Epoch 20, CIFAR-10 Batch 2:  Validation Accuracy: 0.6635998487472534\n",
      "Epoch 20, CIFAR-10 Batch 3:  Validation Accuracy: 0.6701998710632324\n",
      "Epoch 20, CIFAR-10 Batch 4:  Validation Accuracy: 0.6635998487472534\n",
      "Epoch 20, CIFAR-10 Batch 5:  Validation Accuracy: 0.672799825668335\n",
      "Epoch 21, CIFAR-10 Batch 1:  Validation Accuracy: 0.6633999347686768\n",
      "Epoch 21, CIFAR-10 Batch 2:  Validation Accuracy: 0.6629998683929443\n",
      "Epoch 21, CIFAR-10 Batch 3:  Validation Accuracy: 0.662199854850769\n",
      "Epoch 21, CIFAR-10 Batch 4:  Validation Accuracy: 0.6669998168945312\n",
      "Epoch 21, CIFAR-10 Batch 5:  Validation Accuracy: 0.6771998405456543\n",
      "Epoch 22, CIFAR-10 Batch 1:  Validation Accuracy: 0.6631998419761658\n",
      "Epoch 22, CIFAR-10 Batch 2:  Validation Accuracy: 0.6645998358726501\n",
      "Epoch 22, CIFAR-10 Batch 3:  Validation Accuracy: 0.6705999374389648\n",
      "Epoch 22, CIFAR-10 Batch 4:  Validation Accuracy: 0.6631998419761658\n",
      "Epoch 22, CIFAR-10 Batch 5:  Validation Accuracy: 0.6675999164581299\n",
      "Epoch 23, CIFAR-10 Batch 1:  Validation Accuracy: 0.664199948310852\n",
      "Epoch 23, CIFAR-10 Batch 2:  Validation Accuracy: 0.6619998812675476\n",
      "Epoch 23, CIFAR-10 Batch 3:  Validation Accuracy: 0.6697998642921448\n",
      "Epoch 23, CIFAR-10 Batch 4:  Validation Accuracy: 0.6667999029159546\n",
      "Epoch 23, CIFAR-10 Batch 5:  Validation Accuracy: 0.6667999029159546\n",
      "Epoch 24, CIFAR-10 Batch 1:  Validation Accuracy: 0.66159987449646\n",
      "Epoch 24, CIFAR-10 Batch 2:  Validation Accuracy: 0.6603999137878418\n",
      "Epoch 24, CIFAR-10 Batch 3:  Validation Accuracy: 0.668199896812439\n",
      "Epoch 24, CIFAR-10 Batch 4:  Validation Accuracy: 0.6627998352050781\n",
      "Epoch 24, CIFAR-10 Batch 5:  Validation Accuracy: 0.6677998900413513\n",
      "Epoch 25, CIFAR-10 Batch 1:  Validation Accuracy: 0.6611998677253723\n",
      "Epoch 25, CIFAR-10 Batch 2:  Validation Accuracy: 0.6577998995780945\n",
      "Epoch 25, CIFAR-10 Batch 3:  Validation Accuracy: 0.6671999096870422\n",
      "Epoch 25, CIFAR-10 Batch 4:  Validation Accuracy: 0.6605998873710632\n",
      "Epoch 25, CIFAR-10 Batch 5:  Validation Accuracy: 0.671799898147583\n",
      "Epoch 26, CIFAR-10 Batch 1:  Validation Accuracy: 0.6595999002456665\n",
      "Epoch 26, CIFAR-10 Batch 2:  Validation Accuracy: 0.6545999050140381\n",
      "Epoch 26, CIFAR-10 Batch 3:  Validation Accuracy: 0.6453999280929565\n",
      "Epoch 26, CIFAR-10 Batch 4:  Validation Accuracy: 0.6653999090194702\n",
      "Epoch 26, CIFAR-10 Batch 5:  Validation Accuracy: 0.6729998588562012\n",
      "Epoch 27, CIFAR-10 Batch 1:  Validation Accuracy: 0.66159987449646\n",
      "Epoch 27, CIFAR-10 Batch 2:  Validation Accuracy: 0.6551999449729919\n",
      "Epoch 27, CIFAR-10 Batch 3:  Validation Accuracy: 0.6619999408721924\n",
      "Epoch 27, CIFAR-10 Batch 4:  Validation Accuracy: 0.6623998880386353\n",
      "Epoch 27, CIFAR-10 Batch 5:  Validation Accuracy: 0.6691998839378357\n",
      "Epoch 28, CIFAR-10 Batch 1:  Validation Accuracy: 0.66159987449646\n",
      "Epoch 28, CIFAR-10 Batch 2:  Validation Accuracy: 0.6547999382019043\n",
      "Epoch 28, CIFAR-10 Batch 3:  Validation Accuracy: 0.6639999151229858\n",
      "Epoch 28, CIFAR-10 Batch 4:  Validation Accuracy: 0.6631999015808105\n",
      "Epoch 28, CIFAR-10 Batch 5:  Validation Accuracy: 0.6649998426437378\n",
      "Epoch 29, CIFAR-10 Batch 1:  Validation Accuracy: 0.6615999341011047\n",
      "Epoch 29, CIFAR-10 Batch 2:  Validation Accuracy: 0.6513999104499817\n",
      "Epoch 29, CIFAR-10 Batch 3:  Validation Accuracy: 0.6637998819351196\n",
      "Epoch 29, CIFAR-10 Batch 4:  Validation Accuracy: 0.6611999273300171\n",
      "Epoch 29, CIFAR-10 Batch 5:  Validation Accuracy: 0.6669999361038208\n",
      "Epoch 30, CIFAR-10 Batch 1:  Validation Accuracy: 0.65559983253479\n",
      "Epoch 30, CIFAR-10 Batch 2:  Validation Accuracy: 0.6525999307632446\n",
      "Epoch 30, CIFAR-10 Batch 3:  Validation Accuracy: 0.5453999638557434\n",
      "Epoch 30, CIFAR-10 Batch 4:  Validation Accuracy: 0.6655998826026917\n",
      "Epoch 30, CIFAR-10 Batch 5:  Validation Accuracy: 0.6709998846054077\n",
      "Epoch 31, CIFAR-10 Batch 1:  Validation Accuracy: 0.6635998487472534\n",
      "Epoch 31, CIFAR-10 Batch 2:  Validation Accuracy: 0.6587998867034912\n",
      "Epoch 31, CIFAR-10 Batch 3:  Validation Accuracy: 0.662199854850769\n",
      "Epoch 31, CIFAR-10 Batch 4:  Validation Accuracy: 0.6675999164581299\n",
      "Epoch 31, CIFAR-10 Batch 5:  Validation Accuracy: 0.6695998907089233\n",
      "Epoch 32, CIFAR-10 Batch 1:  Validation Accuracy: 0.6611999273300171\n",
      "Epoch 32, CIFAR-10 Batch 2:  Validation Accuracy: 0.650999903678894\n",
      "Epoch 32, CIFAR-10 Batch 3:  Validation Accuracy: 0.6591998338699341\n",
      "Epoch 32, CIFAR-10 Batch 4:  Validation Accuracy: 0.6643998622894287\n",
      "Epoch 32, CIFAR-10 Batch 5:  Validation Accuracy: 0.6655998826026917\n",
      "Epoch 33, CIFAR-10 Batch 1:  Validation Accuracy: 0.6619998812675476\n",
      "Epoch 33, CIFAR-10 Batch 2:  Validation Accuracy: 0.6565998792648315\n",
      "Epoch 33, CIFAR-10 Batch 3:  Validation Accuracy: 0.6583999395370483\n",
      "Epoch 33, CIFAR-10 Batch 4:  Validation Accuracy: 0.6659999489784241\n",
      "Epoch 33, CIFAR-10 Batch 5:  Validation Accuracy: 0.6679998636245728\n",
      "Epoch 34, CIFAR-10 Batch 1:  Validation Accuracy: 0.6643999218940735\n",
      "Epoch 34, CIFAR-10 Batch 2:  Validation Accuracy: 0.6623998880386353\n",
      "Epoch 34, CIFAR-10 Batch 3:  Validation Accuracy: 0.6591998934745789\n",
      "Epoch 34, CIFAR-10 Batch 4:  Validation Accuracy: 0.665199875831604\n",
      "Epoch 34, CIFAR-10 Batch 5:  Validation Accuracy: 0.6681998372077942\n",
      "Epoch 35, CIFAR-10 Batch 1:  Validation Accuracy: 0.6651999354362488\n",
      "Epoch 35, CIFAR-10 Batch 2:  Validation Accuracy: 0.6643998026847839\n",
      "Epoch 35, CIFAR-10 Batch 3:  Validation Accuracy: 0.6601998805999756\n",
      "Epoch 35, CIFAR-10 Batch 4:  Validation Accuracy: 0.6645998954772949\n",
      "Epoch 35, CIFAR-10 Batch 5:  Validation Accuracy: 0.6695998907089233\n",
      "Epoch 36, CIFAR-10 Batch 1:  Validation Accuracy: 0.6657998561859131\n",
      "Epoch 36, CIFAR-10 Batch 2:  Validation Accuracy: 0.66159987449646\n",
      "Epoch 36, CIFAR-10 Batch 3:  Validation Accuracy: 0.6607999205589294\n",
      "Epoch 36, CIFAR-10 Batch 4:  Validation Accuracy: 0.6661998629570007\n",
      "Epoch 36, CIFAR-10 Batch 5:  Validation Accuracy: 0.6679999232292175\n",
      "Epoch 37, CIFAR-10 Batch 1:  Validation Accuracy: 0.6645998358726501\n",
      "Epoch 37, CIFAR-10 Batch 2:  Validation Accuracy: 0.6609998941421509\n",
      "Epoch 37, CIFAR-10 Batch 3:  Validation Accuracy: 0.6607999205589294\n",
      "Epoch 37, CIFAR-10 Batch 4:  Validation Accuracy: 0.6667998433113098\n",
      "Epoch 37, CIFAR-10 Batch 5:  Validation Accuracy: 0.6683999300003052\n",
      "Epoch 38, CIFAR-10 Batch 1:  Validation Accuracy: 0.6393998861312866\n",
      "Epoch 38, CIFAR-10 Batch 2:  Validation Accuracy: 0.6601998805999756\n",
      "Epoch 38, CIFAR-10 Batch 3:  Validation Accuracy: 0.6635998487472534\n",
      "Epoch 38, CIFAR-10 Batch 4:  Validation Accuracy: 0.6661998629570007\n",
      "Epoch 38, CIFAR-10 Batch 5:  Validation Accuracy: 0.6701998710632324\n",
      "Epoch 39, CIFAR-10 Batch 1:  Validation Accuracy: 0.6691998839378357\n",
      "Epoch 39, CIFAR-10 Batch 2:  Validation Accuracy: 0.6641998291015625\n",
      "Epoch 39, CIFAR-10 Batch 3:  Validation Accuracy: 0.666999876499176\n",
      "Epoch 39, CIFAR-10 Batch 4:  Validation Accuracy: 0.6675999164581299\n",
      "Epoch 39, CIFAR-10 Batch 5:  Validation Accuracy: 0.6681998372077942\n",
      "Epoch 40, CIFAR-10 Batch 1:  Validation Accuracy: 0.6675999164581299\n",
      "Epoch 40, CIFAR-10 Batch 2:  Validation Accuracy: 0.6647998690605164\n",
      "Epoch 40, CIFAR-10 Batch 3:  Validation Accuracy: 0.6659998893737793\n",
      "Epoch 40, CIFAR-10 Batch 4:  Validation Accuracy: 0.6695998907089233\n",
      "Epoch 40, CIFAR-10 Batch 5:  Validation Accuracy: 0.6689999103546143\n",
      "Epoch 41, CIFAR-10 Batch 1:  Validation Accuracy: 0.6677998900413513\n",
      "Epoch 41, CIFAR-10 Batch 2:  Validation Accuracy: 0.6643998622894287\n",
      "Epoch 41, CIFAR-10 Batch 3:  Validation Accuracy: 0.6671998500823975\n",
      "Epoch 41, CIFAR-10 Batch 4:  Validation Accuracy: 0.6705998778343201\n",
      "Epoch 41, CIFAR-10 Batch 5:  Validation Accuracy: 0.6693998575210571\n",
      "Epoch 42, CIFAR-10 Batch 1:  Validation Accuracy: 0.668799877166748\n",
      "Epoch 42, CIFAR-10 Batch 2:  Validation Accuracy: 0.6633998155593872\n",
      "Epoch 42, CIFAR-10 Batch 3:  Validation Accuracy: 0.6667998433113098\n",
      "Epoch 42, CIFAR-10 Batch 4:  Validation Accuracy: 0.6699998378753662\n",
      "Epoch 42, CIFAR-10 Batch 5:  Validation Accuracy: 0.6685998439788818\n",
      "Epoch 43, CIFAR-10 Batch 1:  Validation Accuracy: 0.6721999645233154\n",
      "Epoch 43, CIFAR-10 Batch 2:  Validation Accuracy: 0.663399875164032\n",
      "Epoch 43, CIFAR-10 Batch 3:  Validation Accuracy: 0.668199896812439\n",
      "Epoch 43, CIFAR-10 Batch 4:  Validation Accuracy: 0.6695998907089233\n",
      "Epoch 43, CIFAR-10 Batch 5:  Validation Accuracy: 0.6685998439788818\n",
      "Epoch 44, CIFAR-10 Batch 1:  Validation Accuracy: 0.6729998588562012\n",
      "Epoch 44, CIFAR-10 Batch 2:  Validation Accuracy: 0.6633999347686768\n",
      "Epoch 44, CIFAR-10 Batch 3:  Validation Accuracy: 0.6671999096870422\n",
      "Epoch 44, CIFAR-10 Batch 4:  Validation Accuracy: 0.6709998250007629\n",
      "Epoch 44, CIFAR-10 Batch 5:  Validation Accuracy: 0.6689999103546143\n",
      "Epoch 45, CIFAR-10 Batch 1:  Validation Accuracy: 0.6709998846054077\n",
      "Epoch 45, CIFAR-10 Batch 2:  Validation Accuracy: 0.6645998954772949\n",
      "Epoch 45, CIFAR-10 Batch 3:  Validation Accuracy: 0.6671998500823975\n",
      "Epoch 45, CIFAR-10 Batch 4:  Validation Accuracy: 0.669999897480011\n",
      "Epoch 45, CIFAR-10 Batch 5:  Validation Accuracy: 0.6695998311042786\n"
     ]
    }
   ],
   "source": [
    "\"\"\"\n",
    "DON'T MODIFY ANYTHING IN THIS CELL\n",
    "\"\"\"\n",
    "save_model_path = './image_classification'\n",
    "\n",
    "print('Training...')\n",
    "with tf.Session() as sess:\n",
    "    # Initializing the variables\n",
    "    sess.run(tf.global_variables_initializer())\n",
    "    \n",
    "    # Training cycle\n",
    "    for epoch in range(epochs):\n",
    "        # Loop over all batches\n",
    "        n_batches = 5\n",
    "        for batch_i in range(1, n_batches + 1):\n",
    "            for batch_features, batch_labels in helper.load_preprocess_training_batch(batch_i, batch_size):\n",
    "                train_neural_network(sess, optimizer, keep_probability, batch_features, batch_labels)\n",
    "            print('Epoch {:>2}, CIFAR-10 Batch {}:  '.format(epoch + 1, batch_i), end='')\n",
    "            print_stats(sess, batch_features, batch_labels, cost, accuracy)\n",
    "            \n",
    "    # Save Model\n",
    "    saver = tf.train.Saver()\n",
    "    save_path = saver.save(sess, save_model_path)"
   ]
  },
  {
   "cell_type": "markdown",
   "metadata": {
    "deletable": true,
    "editable": true
   },
   "source": [
    "# Checkpoint\n",
    "The model has been saved to disk.\n",
    "## Test Model\n",
    "Test your model against the test dataset.  This will be your final accuracy. You should have an accuracy greater than 50%. If you don't, keep tweaking the model architecture and parameters."
   ]
  },
  {
   "cell_type": "code",
   "execution_count": 25,
   "metadata": {
    "collapsed": false,
    "deletable": true,
    "editable": true
   },
   "outputs": [
    {
     "name": "stdout",
     "output_type": "stream",
     "text": [
      "Testing Accuracy: 0.6663370253164557\n",
      "\n"
     ]
    },
    {
     "data": {
      "image/png": "[encoded data removed]",
      "text/plain": [
       "<matplotlib.figure.Figure at 0x7f455ab40748>"
      ]
     },
     "metadata": {
      "image/png": {
       "height": 319,
       "width": 355
      }
     },
     "output_type": "display_data"
    }
   ],
   "source": [
    "\"\"\"\n",
    "DON'T MODIFY ANYTHING IN THIS CELL\n",
    "\"\"\"\n",
    "%matplotlib inline\n",
    "%config InlineBackend.figure_format = 'retina'\n",
    "\n",
    "import tensorflow as tf\n",
    "import pickle\n",
    "import helper\n",
    "import random\n",
    "\n",
    "# Set batch size if not already set\n",
    "try:\n",
    "    if batch_size:\n",
    "        pass\n",
    "except NameError:\n",
    "    batch_size = 64\n",
    "\n",
    "save_model_path = './image_classification'\n",
    "n_samples = 4\n",
    "top_n_predictions = 3\n",
    "\n",
    "def test_model():\n",
    "    \"\"\"\n",
    "    Test the saved model against the test dataset\n",
    "    \"\"\"\n",
    "\n",
    "    test_features, test_labels = pickle.load(open('preprocess_training.p', mode='rb'))\n",
    "    loaded_graph = tf.Graph()\n",
    "\n",
    "    with tf.Session(graph=loaded_graph) as sess:\n",
    "        # Load model\n",
    "        loader = tf.train.import_meta_graph(save_model_path + '.meta')\n",
    "        loader.restore(sess, save_model_path)\n",
    "\n",
    "        # Get Tensors from loaded model\n",
    "        loaded_x = loaded_graph.get_tensor_by_name('x:0')\n",
    "        loaded_y = loaded_graph.get_tensor_by_name('y:0')\n",
    "        loaded_keep_prob = loaded_graph.get_tensor_by_name('keep_prob:0')\n",
    "        loaded_logits = loaded_graph.get_tensor_by_name('logits:0')\n",
    "        loaded_acc = loaded_graph.get_tensor_by_name('accuracy:0')\n",
    "        \n",
    "        # Get accuracy in batches for memory limitations\n",
    "        test_batch_acc_total = 0\n",
    "        test_batch_count = 0\n",
    "        \n",
    "        for train_feature_batch, train_label_batch in helper.batch_features_labels(test_features, test_labels, batch_size):\n",
    "            test_batch_acc_total += sess.run(\n",
    "                loaded_acc,\n",
    "                feed_dict={loaded_x: train_feature_batch, loaded_y: train_label_batch, loaded_keep_prob: 1.0})\n",
    "            test_batch_count += 1\n",
    "\n",
    "        print('Testing Accuracy: {}\\n'.format(test_batch_acc_total/test_batch_count))\n",
    "\n",
    "        # Print Random Samples\n",
    "        random_test_features, random_test_labels = tuple(zip(*random.sample(list(zip(test_features, test_labels)), n_samples)))\n",
    "        random_test_predictions = sess.run(\n",
    "            tf.nn.top_k(tf.nn.softmax(loaded_logits), top_n_predictions),\n",
    "            feed_dict={loaded_x: random_test_features, loaded_y: random_test_labels, loaded_keep_prob: 1.0})\n",
    "        helper.display_image_predictions(random_test_features, random_test_labels, random_test_predictions)\n",
    "\n",
    "\n",
    "test_model()"
   ]
  },
  {
   "cell_type": "markdown",
   "metadata": {
    "deletable": true,
    "editable": true
   },
   "source": [
    "## Why 50-70% Accuracy?\n",
    "You might be wondering why you can't get an accuracy any higher. First things first, 50% isn't bad for a simple CNN.  Pure guessing would get you 10% accuracy. However, you might notice people are getting scores [well above 70%](http://rodrigob.github.io/are_we_there_yet/build/classification_datasets_results.html#43494641522d3130).  That's because we haven't taught you all there is to know about neural networks. We still need to cover a few more techniques.\n",
    "## Submitting This Project\n",
    "When submitting this project, make sure to run all the cells before saving the notebook.  Save the notebook file as \"dlnd_image_classification.ipynb\" and save it as a HTML file under \"File\" -> \"Download as\".  Include the \"helper.py\" and \"problem_unittests.py\" files in your submission."
   ]
  }
 ],
 "metadata": {
  "kernelspec": {
   "display_name": "Python 3",
   "language": "python",
   "name": "python3"
  },
  "language_info": {
   "codemirror_mode": {
    "name": "ipython",
    "version": 3
   },
   "file_extension": ".py",
   "mimetype": "text/x-python",
   "name": "python",
   "nbconvert_exporter": "python",
   "pygments_lexer": "ipython3",
   "version": "3.5.2"
  },
  "widgets": {
   "state": {},
   "version": "1.1.2"
  }
 },
 "nbformat": 4,
 "nbformat_minor": 0
}
